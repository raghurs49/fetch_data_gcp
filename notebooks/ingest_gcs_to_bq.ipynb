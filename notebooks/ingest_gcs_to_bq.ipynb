{
 "cells": [
  {
   "cell_type": "code",
   "execution_count": 1,
   "id": "99cc3680-a4a1-4a45-8d84-fd2ac51b4a07",
   "metadata": {},
   "outputs": [
    {
     "name": "stdout",
     "output_type": "stream",
     "text": [
      "Requirement already satisfied: pandas in /opt/conda/lib/python3.7/site-packages (1.3.5)\n",
      "Collecting pandas_gbq\n",
      "  Downloading pandas_gbq-0.19.2-py2.py3-none-any.whl (25 kB)\n",
      "Requirement already satisfied: google-cloud-bigquery in /opt/conda/lib/python3.7/site-packages (3.11.1)\n",
      "Requirement already satisfied: python-dateutil>=2.7.3 in /opt/conda/lib/python3.7/site-packages (from pandas) (2.8.2)\n",
      "Requirement already satisfied: pytz>=2017.3 in /opt/conda/lib/python3.7/site-packages (from pandas) (2023.3)\n",
      "Requirement already satisfied: numpy>=1.17.3 in /opt/conda/lib/python3.7/site-packages (from pandas) (1.21.6)\n",
      "Requirement already satisfied: setuptools in /opt/conda/lib/python3.7/site-packages (from pandas_gbq) (67.7.2)\n",
      "Requirement already satisfied: db-dtypes<2.0.0,>=1.0.4 in /opt/conda/lib/python3.7/site-packages (from pandas_gbq) (1.1.1)\n",
      "Requirement already satisfied: pyarrow>=3.0.0 in /opt/conda/lib/python3.7/site-packages (from pandas_gbq) (12.0.1)\n",
      "Collecting pydata-google-auth>=1.5.0 (from pandas_gbq)\n",
      "  Downloading pydata_google_auth-1.8.1-py2.py3-none-any.whl (15 kB)\n",
      "Collecting google-api-core<3.0.0dev,>=2.10.2 (from pandas_gbq)\n",
      "  Downloading google_api_core-2.11.1-py3-none-any.whl (120 kB)\n",
      "\u001b[2K     \u001b[90m━━━━━━━━━━━━━━━━━━━━━━━━━━━━━━━━━━━━━━━\u001b[0m \u001b[32m120.5/120.5 kB\u001b[0m \u001b[31m4.3 MB/s\u001b[0m eta \u001b[36m0:00:00\u001b[0m\n",
      "\u001b[?25hRequirement already satisfied: google-auth>=2.13.0 in /opt/conda/lib/python3.7/site-packages (from pandas_gbq) (2.20.0)\n",
      "Requirement already satisfied: google-auth-oauthlib>=0.7.0 in /opt/conda/lib/python3.7/site-packages (from pandas_gbq) (1.0.0)\n",
      "Requirement already satisfied: google-cloud-bigquery-storage<3.0.0dev,>=2.16.2 in /opt/conda/lib/python3.7/site-packages (from pandas_gbq) (2.20.0)\n",
      "Requirement already satisfied: grpcio<2.0dev,>=1.47.0 in /opt/conda/lib/python3.7/site-packages (from google-cloud-bigquery) (1.51.3)\n",
      "Requirement already satisfied: google-api-core[grpc]!=2.0.*,!=2.1.*,!=2.2.*,!=2.3.0,<3.0.0dev,>=1.31.5 in /opt/conda/lib/python3.7/site-packages (from google-cloud-bigquery) (1.34.0)\n",
      "Requirement already satisfied: proto-plus<2.0.0dev,>=1.15.0 in /opt/conda/lib/python3.7/site-packages (from google-cloud-bigquery) (1.22.2)\n",
      "Requirement already satisfied: google-cloud-core<3.0.0dev,>=1.6.0 in /opt/conda/lib/python3.7/site-packages (from google-cloud-bigquery) (2.3.2)\n",
      "Requirement already satisfied: google-resumable-media<3.0dev,>=0.6.0 in /opt/conda/lib/python3.7/site-packages (from google-cloud-bigquery) (2.5.0)\n",
      "Requirement already satisfied: packaging>=20.0.0 in /opt/conda/lib/python3.7/site-packages (from google-cloud-bigquery) (23.1)\n",
      "Requirement already satisfied: protobuf!=3.20.0,!=3.20.1,!=4.21.0,!=4.21.1,!=4.21.2,!=4.21.3,!=4.21.4,!=4.21.5,<5.0.0dev,>=3.19.5 in /opt/conda/lib/python3.7/site-packages (from google-cloud-bigquery) (3.20.3)\n",
      "Requirement already satisfied: requests<3.0.0dev,>=2.21.0 in /opt/conda/lib/python3.7/site-packages (from google-cloud-bigquery) (2.31.0)\n",
      "Requirement already satisfied: googleapis-common-protos<2.0.dev0,>=1.56.2 in /opt/conda/lib/python3.7/site-packages (from google-api-core<3.0.0dev,>=2.10.2->pandas_gbq) (1.59.1)\n",
      "INFO: pip is looking at multiple versions of google-api-core[grpc] to determine which version is compatible with other requirements. This could take a while.\n",
      "Requirement already satisfied: grpcio-status<2.0.dev0,>=1.33.2 in /opt/conda/lib/python3.7/site-packages (from google-api-core<3.0.0dev,>=2.10.2->pandas_gbq) (1.48.2)\n",
      "Requirement already satisfied: cachetools<6.0,>=2.0.0 in /opt/conda/lib/python3.7/site-packages (from google-auth>=2.13.0->pandas_gbq) (5.3.1)\n",
      "Requirement already satisfied: pyasn1-modules>=0.2.1 in /opt/conda/lib/python3.7/site-packages (from google-auth>=2.13.0->pandas_gbq) (0.3.0)\n",
      "Requirement already satisfied: rsa<5,>=3.1.4 in /opt/conda/lib/python3.7/site-packages (from google-auth>=2.13.0->pandas_gbq) (4.9)\n",
      "Requirement already satisfied: six>=1.9.0 in /opt/conda/lib/python3.7/site-packages (from google-auth>=2.13.0->pandas_gbq) (1.16.0)\n",
      "Requirement already satisfied: urllib3<2.0 in /opt/conda/lib/python3.7/site-packages (from google-auth>=2.13.0->pandas_gbq) (1.26.16)\n",
      "Requirement already satisfied: requests-oauthlib>=0.7.0 in /opt/conda/lib/python3.7/site-packages (from google-auth-oauthlib>=0.7.0->pandas_gbq) (1.3.1)\n",
      "Requirement already satisfied: google-crc32c<2.0dev,>=1.0 in /opt/conda/lib/python3.7/site-packages (from google-resumable-media<3.0dev,>=0.6.0->google-cloud-bigquery) (1.5.0)\n",
      "Requirement already satisfied: charset-normalizer<4,>=2 in /opt/conda/lib/python3.7/site-packages (from requests<3.0.0dev,>=2.21.0->google-cloud-bigquery) (3.1.0)\n",
      "Requirement already satisfied: idna<4,>=2.5 in /opt/conda/lib/python3.7/site-packages (from requests<3.0.0dev,>=2.21.0->google-cloud-bigquery) (3.4)\n",
      "Requirement already satisfied: certifi>=2017.4.17 in /opt/conda/lib/python3.7/site-packages (from requests<3.0.0dev,>=2.21.0->google-cloud-bigquery) (2023.5.7)\n",
      "Requirement already satisfied: pyasn1<0.6.0,>=0.4.6 in /opt/conda/lib/python3.7/site-packages (from pyasn1-modules>=0.2.1->google-auth>=2.13.0->pandas_gbq) (0.5.0)\n",
      "Requirement already satisfied: oauthlib>=3.0.0 in /opt/conda/lib/python3.7/site-packages (from requests-oauthlib>=0.7.0->google-auth-oauthlib>=0.7.0->pandas_gbq) (3.2.2)\n",
      "Installing collected packages: google-api-core, pydata-google-auth, pandas_gbq\n",
      "  Attempting uninstall: google-api-core\n",
      "    Found existing installation: google-api-core 1.34.0\n",
      "    Uninstalling google-api-core-1.34.0:\n",
      "      Successfully uninstalled google-api-core-1.34.0\n",
      "\u001b[31mERROR: pip's dependency resolver does not currently take into account all the packages that are installed. This behaviour is the source of the following dependency conflicts.\n",
      "google-api-python-client 1.8.0 requires google-api-core<2dev,>=1.13.0, but you have google-api-core 2.11.1 which is incompatible.\u001b[0m\u001b[31m\n",
      "\u001b[0mSuccessfully installed google-api-core-2.11.1 pandas_gbq-0.19.2 pydata-google-auth-1.8.1\n"
     ]
    }
   ],
   "source": [
    "## Installing python libraries\n",
    "!pip install google-cloud-bigquery google-cloud-storage"
   ]
  },
  {
   "cell_type": "code",
   "execution_count": null,
   "id": "88ef5aa7-daa0-4808-b69a-c7d3dc0afeed",
   "metadata": {},
   "outputs": [],
   "source": [
    "from google.cloud import bigquery\n",
    "from google.cloud import storage\n",
    "import io\n",
    "\n",
    "# Set the path to the service account key JSON file\n",
    "service_account_key_path = 'gcp-de-research-392716-5c829834d886.json'\n",
    "# Authenticate BigQuery and Storage clients with the service account key\n",
    "bq_client = bigquery.Client.from_service_account_json(service_account_key_path)\n",
    "storage_client = storage.Client.from_service_account_json(service_account_key_path)"
   ]
  },
  {
   "cell_type": "code",
   "execution_count": null,
   "id": "b6cba528-c141-4cba-9f50-41e8165575c2",
   "metadata": {},
   "outputs": [],
   "source": [
    "# Declaring variables\n",
    "# Replace these values with your GCS and BigQuery information\n",
    "gcs_bucket_name = \"misc_data_bucket_gcp\"\n",
    "gcs_file_path = \"bank-marketing.csv\"\n",
    "bq_project_id = \"gcp-de-research-392716\"\n",
    "bq_dataset_id = \"demo_dataset\"\n",
    "bq_table_id = \"demo_table\""
   ]
  },
  {
   "cell_type": "code",
   "execution_count": null,
   "id": "fb36ad98-4336-44dc-8a87-71d514650f80",
   "metadata": {},
   "outputs": [
    {
     "name": "stdout",
     "output_type": "stream",
     "text": [
      "Dataset 'demo_dataset' already exists.\n",
      "Data loaded into table 'demo_table' in dataset 'demo_dataset'.\n"
     ]
    }
   ],
   "source": [
    "# Check if the dataset already exists, if not, create it\n",
    "dataset_ref = bq_client.dataset(bq_dataset_id)\n",
    "try:\n",
    "    bq_client.get_dataset(dataset_ref)\n",
    "    print(f\"Dataset '{bq_dataset_id}' already exists.\")\n",
    "except Exception as e:\n",
    "    # If the dataset does not exist, create it\n",
    "    dataset = bigquery.Dataset(dataset_ref)\n",
    "    dataset = bq_client.create_dataset(dataset)\n",
    "    print(f\"Dataset '{bq_dataset_id}' created.\")\n",
    "\n",
    "# Load data from GCS\n",
    "gcs_file_url = f\"gs://{gcs_bucket_name}/{gcs_file_path}\"\n",
    "bucket = storage_client.bucket(gcs_bucket_name)\n",
    "blob = bucket.blob(gcs_file_path)\n",
    "file_content = blob.download_as_text()\n",
    "\n",
    "# Create a file-like object from the file content\n",
    "file_obj = io.BytesIO(file_content.encode())\n",
    "\n",
    "# Save the data to BigQuery with auto-detected schema\n",
    "table_ref = bq_client.dataset(bq_dataset_id).table(bq_table_id)\n",
    "job_config = bigquery.LoadJobConfig(\n",
    "    autodetect=True,\n",
    "    source_format=bigquery.SourceFormat.CSV,\n",
    ")\n",
    "load_job = bq_client.load_table_from_file(\n",
    "    file_obj,  # Pass the file-like object here\n",
    "    table_ref,\n",
    "    job_config=job_config,\n",
    ")\n",
    "load_job.result()\n",
    "\n",
    "print(f\"Data loaded into table '{bq_table_id}' in dataset '{bq_dataset_id}'.\")"
   ]
  },
  {
   "cell_type": "code",
   "execution_count": null,
   "id": "64b01e40-b318-4b54-9e04-5a53870a3c71",
   "metadata": {},
   "outputs": [],
   "source": []
  }
 ],
 "metadata": {
  "environment": {
   "kernel": "python3",
   "name": "common-cpu.m109",
   "type": "gcloud",
   "uri": "gcr.io/deeplearning-platform-release/base-cpu:m109"
  },
  "kernelspec": {
   "display_name": "Python 3",
   "language": "python",
   "name": "python3"
  },
  "language_info": {
   "codemirror_mode": {
    "name": "ipython",
    "version": 3
   },
   "file_extension": ".py",
   "mimetype": "text/x-python",
   "name": "python",
   "nbconvert_exporter": "python",
   "pygments_lexer": "ipython3",
   "version": "3.7.12"
  }
 },
 "nbformat": 4,
 "nbformat_minor": 5
}
